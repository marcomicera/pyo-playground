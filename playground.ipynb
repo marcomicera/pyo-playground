{
 "cells": [
  {
   "cell_type": "code",
   "execution_count": null,
   "metadata": {
    "pycharm": {
     "is_executing": false
    }
   },
   "outputs": [],
   "source": [
    "from pyo import *\n",
    "\n",
    "# Available devices\n",
    "pa_list_devices()\n",
    "print(\"Default input device: %i\" % pa_get_default_input())\n",
    "print(\"Default output device: %i\" % pa_get_default_output())"
   ]
  },
  {
   "cell_type": "code",
   "execution_count": null,
   "metadata": {
    "pycharm": {
     "is_executing": false,
     "name": "#%% \n"
    }
   },
   "outputs": [],
   "source": [
    "# Starting server\n",
    "s = Server()\n",
    "s.setOutputDevice(9)\n",
    "s.boot()\n",
    "s.start()"
   ]
  },
  {
   "cell_type": "code",
   "execution_count": null,
   "metadata": {
    "pycharm": {
     "is_executing": false,
     "name": "#%%\n"
    }
   },
   "outputs": [],
   "source": [
    "# Oscillator\n",
    "wav = SquareTable() \n",
    "beat = Metro(time=0.125, poly=7).play()\n",
    "envelope = CosTable([(0,0), (100,1), (500,.3), (8191,0)])\n",
    "amplitude = TrigEnv(beat, table=envelope, dur=0.125, mul=0.5)\n",
    "pitch = TrigXnoiseMidi(beat, dist='loopseg', x1=20, scale=1, mrange=(48,84))\n",
    "oscillator = Osc(table=wav, freq=pitch, mul=amplitude).out()"
   ]
  },
  {
   "cell_type": "code",
   "execution_count": null,
   "metadata": {
    "pycharm": {
     "is_executing": false,
     "name": "#%% \n"
    }
   },
   "outputs": [],
   "source": [
    "oscillator.stop()"
   ]
  },
  {
   "cell_type": "code",
   "execution_count": null,
   "metadata": {
    "pycharm": {
     "is_executing": false,
     "name": "#%%\n"
    }
   },
   "outputs": [],
   "source": [
    "s.stop()"
   ]
  }
 ],
 "metadata": {
  "kernelspec": {
   "display_name": "PyCharm (pyo-playground)",
   "language": "python",
   "name": "pycharm-e9b33378"
  },
  "language_info": {
   "codemirror_mode": {
    "name": "ipython",
    "version": 2
   },
   "file_extension": ".py",
   "mimetype": "text/x-python",
   "name": "python",
   "nbconvert_exporter": "python",
   "pygments_lexer": "ipython2",
   "version": "2.7.6"
  },
  "pycharm": {
   "stem_cell": {
    "cell_type": "raw",
    "metadata": {
     "collapsed": false
    },
    "source": []
   }
  }
 },
 "nbformat": 4,
 "nbformat_minor": 0
}
