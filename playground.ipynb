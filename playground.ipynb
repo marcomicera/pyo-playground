{
 "cells": [
  {
   "cell_type": "code",
   "execution_count": 23,
   "metadata": {
    "collapsed": true,
    "pycharm": {
     "is_executing": false
    }
   },
   "outputs": [
    {
     "name": "stdout",
     "text": [
      "AUDIO devices:\n0: IN, name: HDA Intel PCH: 92HD99BXX Analog (hw:0,0), host api index: 0, default sr: 44100 Hz, latency: 0.005805 s\n0: OUT, name: HDA Intel PCH: 92HD99BXX Analog (hw:0,0), host api index: 0, default sr: 44100 Hz, latency: 0.005805 s\n1: OUT, name: HDA Intel PCH: HDMI 0 (hw:0,3), host api index: 0, default sr: 44100 Hz, latency: 0.005805 s\n2: IN, name: sysdefault, host api index: 0, default sr: 48000 Hz, latency: 0.021333 s\n2: OUT, name: sysdefault, host api index: 0, default sr: 48000 Hz, latency: 0.021333 s\n3: OUT, name: front, host api index: 0, default sr: 44100 Hz, latency: 0.005805 s\n4: OUT, name: surround40, host api index: 0, default sr: 44100 Hz, latency: 0.005805 s\n5: OUT, name: surround51, host api index: 0, default sr: 44100 Hz, latency: 0.005805 s\n6: OUT, name: surround71, host api index: 0, default sr: 44100 Hz, latency: 0.005805 s\n7: OUT, name: hdmi, host api index: 0, default sr: 44100 Hz, latency: 0.005805 s\n8: IN, name: samplerate, host api index: 0, default sr: 44100 Hz, latency: 0.007755 s\n8: OUT, name: samplerate, host api index: 0, default sr: 44100 Hz, latency: 0.007755 s\n9: IN, name: speexrate, host api index: 0, default sr: 44100 Hz, latency: 0.007755 s\n9: OUT, name: speexrate, host api index: 0, default sr: 44100 Hz, latency: 0.007755 s\n10: IN, name: pulse, host api index: 0, default sr: 44100 Hz, latency: 0.008685 s\n10: OUT, name: pulse, host api index: 0, default sr: 44100 Hz, latency: 0.008685 s\n11: IN, name: upmix, host api index: 0, default sr: 44100 Hz, latency: 0.005805 s\n11: OUT, name: upmix, host api index: 0, default sr: 44100 Hz, latency: 0.005805 s\n12: IN, name: vdownmix, host api index: 0, default sr: 44100 Hz, latency: 0.005805 s\n12: OUT, name: vdownmix, host api index: 0, default sr: 44100 Hz, latency: 0.005805 s\n13: OUT, name: dmix, host api index: 0, default sr: 48000 Hz, latency: 0.021333 s\n14: IN, name: default, host api index: 0, default sr: 44100 Hz, latency: 0.008685 s\n14: OUT, name: default, host api index: 0, default sr: 44100 Hz, latency: 0.008685 s\n\nDefault input device: 14\nDefault output device: 14\n"
     ],
     "output_type": "stream"
    }
   ],
   "source": [
    "from pyo import *\n",
    "\n",
    "# Available devices\n",
    "pa_list_devices()\n",
    "print(\"Default input device: %i\" % pa_get_default_input())\n",
    "print(\"Default output device: %i\" % pa_get_default_output())"
   ]
  },
  {
   "cell_type": "code",
   "execution_count": 32,
   "outputs": [
    {
     "data": {
      "text/plain": "<pyo.lib.server.Server at 0x7fdc7c931898>"
     },
     "metadata": {},
     "output_type": "execute_result",
     "execution_count": 32
    }
   ],
   "source": [
    "# Starting server\n",
    "s = Server()\n",
    "s.setOutputDevice(9)\n",
    "s.boot()\n",
    "s.start()"
   ],
   "metadata": {
    "collapsed": false,
    "pycharm": {
     "name": "#%% \n",
     "is_executing": false
    }
   }
  },
  {
   "cell_type": "code",
   "execution_count": 35,
   "outputs": [],
   "source": [
    "# Oscillator\n",
    "wav = SquareTable() \n",
    "beat = Metro(time=0.125, poly=7).play()\n",
    "envelope = CosTable([(0,0), (100,1), (500,.3), (8191,0)])\n",
    "amplitude = TrigEnv(beat, table=envelope, dur=0.125, mul=0.5)\n",
    "pitch = TrigXnoiseMidi(beat, dist='loopseg', x1=20, scale=1, mrange=(48,84))\n",
    "oscillator = Osc(table=wav, freq=pitch, mul=amplitude).out()"
   ],
   "metadata": {
    "collapsed": false,
    "pycharm": {
     "name": "#%%\n",
     "is_executing": false
    }
   }
  },
  {
   "cell_type": "code",
   "execution_count": 34,
   "outputs": [
    {
     "data": {
      "text/plain": "< Instance of Osc class >"
     },
     "metadata": {},
     "output_type": "execute_result",
     "execution_count": 34
    }
   ],
   "source": [
    "oscillator.stop()"
   ],
   "metadata": {
    "collapsed": false,
    "pycharm": {
     "name": "#%% \n",
     "is_executing": false
    }
   }
  },
  {
   "cell_type": "code",
   "execution_count": 30,
   "outputs": [],
   "source": [
    "s.stop()"
   ],
   "metadata": {
    "collapsed": false,
    "pycharm": {
     "name": "#%%\n",
     "is_executing": false
    }
   }
  }
 ],
 "metadata": {
  "kernelspec": {
   "name": "pycharm-e9b33378",
   "language": "python",
   "display_name": "PyCharm (pyo-playground)"
  },
  "language_info": {
   "codemirror_mode": {
    "name": "ipython",
    "version": 2
   },
   "file_extension": ".py",
   "mimetype": "text/x-python",
   "name": "python",
   "nbconvert_exporter": "python",
   "pygments_lexer": "ipython2",
   "version": "2.7.6"
  },
  "pycharm": {
   "stem_cell": {
    "cell_type": "raw",
    "source": [],
    "metadata": {
     "collapsed": false
    }
   }
  }
 },
 "nbformat": 4,
 "nbformat_minor": 0
}